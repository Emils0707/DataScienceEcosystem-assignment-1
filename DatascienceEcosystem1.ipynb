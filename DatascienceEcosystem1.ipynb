{
 "cells": [
  {
   "cell_type": "markdown",
   "id": "62e84515-34b1-409e-8bec-c29eca5502ec",
   "metadata": {},
   "source": [
    "# Data Science Tools and Ecosystem"
   ]
  },
  {
   "cell_type": "markdown",
   "id": "5e0728ba-9fb6-45dd-acf5-2b24447ed338",
   "metadata": {},
   "source": [
    "In this notebook, Data Science Tools and Ecosystem are summarized"
   ]
  },
  {
   "cell_type": "code",
   "execution_count": null,
   "id": "0e1feba1-1646-49a3-b250-dab43d8b771f",
   "metadata": {},
   "outputs": [],
   "source": [
    "Some of the popular languages that Data Scientists use are:\n",
    "\n",
    "1. Python  \n",
    "2. R  \n",
    "3. SQL  \n",
    "4. Julia  \n",
    "5. Scala  \n"
   ]
  },
  {
   "cell_type": "code",
   "execution_count": null,
   "id": "abb83084-9013-408e-8348-3ad86df841b9",
   "metadata": {},
   "outputs": [],
   "source": [
    "some of the commonly used libraries used by Data Scientists include:\n",
    "\n",
    "1. panda \n",
    "2. numpy \n",
    "3. TensorFlow  "
   ]
  },
  {
   "cell_type": "markdown",
   "id": "081bd438-2398-4f44-ad9b-0705321347b4",
   "metadata": {},
   "source": [
    "| Data Science Tools |\n",
    "|--------------------|\n",
    "| Jupyter Notebook  |\n",
    "| RStudio          |\n",
    "| Apache Zeppelin  |"
   ]
  },
  {
   "cell_type": "markdown",
   "id": "f0dd0970-bc7e-401b-9eb6-d0e7155aec2b",
   "metadata": {},
   "source": [
    "### Below are a few examples of evaluating arithmetic expressions in Python."
   ]
  },
  {
   "cell_type": "code",
   "execution_count": 7,
   "id": "a7b78512-51a8-4f95-8c89-9822fd9fd368",
   "metadata": {},
   "outputs": [
    {
     "data": {
      "text/plain": [
       "17"
      ]
     },
     "execution_count": 7,
     "metadata": {},
     "output_type": "execute_result"
    }
   ],
   "source": [
    "# This is a simple arithmetic expression to multiply then add integers.\n",
    "(3 * 4) + 5"
   ]
  },
  {
   "cell_type": "code",
   "execution_count": 11,
   "id": "1cf434ff-9a3f-4f74-9149-dbcac561deaa",
   "metadata": {},
   "outputs": [
    {
     "data": {
      "text/plain": [
       "3.3333333333333335"
      ]
     },
     "execution_count": 11,
     "metadata": {},
     "output_type": "execute_result"
    }
   ],
   "source": [
    "# This will convert 200 minutes to hours by dividing by 60.\n",
    "200 / 60"
   ]
  },
  {
   "cell_type": "markdown",
   "id": "49467127-e68a-44fe-9c80-3c0b69cbe842",
   "metadata": {},
   "source": [
    "**Objectives:**\n",
    "- List popular languages for Data Science  \n",
    "- Identify commonly used libraries in Data Science  \n",
    "- Learn about common development tools in Data Science  \n",
    "- Perform basic arithmetic operations in Python  \n",
    "- Convert time units using Python expressions  "
   ]
  },
  {
   "cell_type": "markdown",
   "id": "5d390ad2-211a-4e01-abb9-d694bc4fe0cb",
   "metadata": {},
   "source": [
    "## Author  \n",
    "Emil Wold"
   ]
  },
  {
   "cell_type": "code",
   "execution_count": null,
   "id": "ca227070-8bd1-44eb-8f7b-f36063d148de",
   "metadata": {},
   "outputs": [],
   "source": []
  }
 ],
 "metadata": {
  "kernelspec": {
   "display_name": "Python [conda env:base] *",
   "language": "python",
   "name": "conda-base-py"
  },
  "language_info": {
   "codemirror_mode": {
    "name": "ipython",
    "version": 3
   },
   "file_extension": ".py",
   "mimetype": "text/x-python",
   "name": "python",
   "nbconvert_exporter": "python",
   "pygments_lexer": "ipython3",
   "version": "3.12.7"
  }
 },
 "nbformat": 4,
 "nbformat_minor": 5
}
